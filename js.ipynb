{
 "cells": [
  {
   "cell_type": "markdown",
   "source": [
    "## Java scrypt\n",
    "### Объвление пременых\n",
    "\n",
    "#### Устаревший способ объвление переменных hoisting или \"всплытие переменных\". Переменная может быть выведена в консоль до ее объявления\n",
    "var a;\n",
    "\n",
    "var скорее всего глобальная переменная\n",
    "\n",
    "#### Современный способ объяления переменных\n",
    "let a;\n",
    "let s = 3;\n",
    "const d = 10;"
   ],
   "metadata": {
    "collapsed": false
   }
  },
  {
   "cell_type": "markdown",
   "source": [
    "### jsdoc - стандарт документирование кода https://jsdoc.app/tags-param.html\n",
    "/**\n",
    " * @param {string} somebody\n",
    " */\n",
    "\n",
    "ctrl q выводит описание функции"
   ],
   "metadata": {
    "collapsed": false
   }
  },
  {
   "cell_type": "markdown",
   "source": [
    "### Режим современного кода\n",
    "\n",
    "#### \"use strict\"\n",
    "##### обявдение переменных без let\n",
    ">a = 10;\n",
    ">>ReferenceError: a is not define"
   ],
   "metadata": {
    "collapsed": false
   }
  },
  {
   "cell_type": "markdown",
   "source": [
    "### Видимость\n",
    "#### Обявление переменных без let const var вне строго режима создает переменные в глобальной области видимости window. К ним можно обращатбся как к атрибуту \"window\"\n",
    ">a = 10;\n",
    ">console.log(window.a)\n",
    ">function f() {a = 10;}\n",
    ">console.log(window.a)\n",
    "\n",
    "#### Обявление переменных c var создает переменные в глобальной области видимости window. Объявление внутри функции НЕ СОЗДАЕТ переменную в window. Это справеливо как для строго режима, так и для нестрого.\n",
    ">var a = 10;\n",
    ">console(window.a)\n",
    ">>10\n",
    "\n",
    ">function f() {var a = 10;}\n",
    ">console.log(window.a)\n",
    ">>undefined\n",
    "#### Обявление переменных c let создает переменные в  области видимости скрипта (script).\n",
    "#### Обявление переменных c let в блоке (if) создает переменные в  области видимости блока (blocks).\n",
    "#### Обявление переменных c let в функциисоздает переменные в  области видимости функции (local).\n"
   ],
   "metadata": {
    "collapsed": false
   }
  },
  {
   "cell_type": "markdown",
   "source": [
    "### Где не ставиться точка с запятятой\n",
    ">if (true) {}\n",
    "\n",
    ">for (){}\n",
    "\n",
    ">function(){}\n",
    "### Где СТАВИТЬСЯ точка с запятятой\n",
    "#### Если инструкции написаный в одну строку\n",
    ">let a = 10; let b = 10;\n",
    "#### В бесконечном цикле\n",
    ">for (;;);"
   ],
   "metadata": {
    "collapsed": false
   }
  },
  {
   "cell_type": "markdown",
   "source": [
    "### Сравение null и undefined\n",
    "#### Нестрогое стравнеие дает true\n",
    "#### Строгое стравнеие дает false"
   ],
   "metadata": {
    "collapsed": false
   }
  },
  {
   "cell_type": "markdown",
   "source": [
    "### Типы данных\n",
    "#### Простые (Числа, строки, Логические, null, undefined, Symbol, Bigint )\n",
    "#### Объекты - Спец. объекты(Массивы, Функции, Дата, Регулярки, Ошибки)"
   ],
   "metadata": {
    "collapsed": false
   }
  },
  {
   "cell_type": "markdown",
   "source": [
    "### Привидение типов\n",
    "#### В строку\n",
    ">String (2)\n",
    ">>\"2\"\n",
    "#### В число\n",
    ">Number(\"2\")\n",
    ">>2\n",
    "\n",
    ">+\"2\"\n",
    ">>2\n",
    "\n",
    "#### В булево\n",
    ">>Boolean(\"\")\n",
    ">false\n",
    ">>Boolean(\"1\")\n",
    ">true"
   ],
   "metadata": {
    "collapsed": false
   }
  },
  {
   "cell_type": "markdown",
   "source": [
    "\n",
    "### Простое общение с пользователем\n",
    "#### confirm - простое окно с вопросом и кнопками ДА НЕТ. результат true или false\n",
    ">const result = confirm(\"Пользователь на сайте?\")\n",
    ">> true\n",
    "#### prompt - вопрос с полем ввода. Результат значение поля ввода всегда текст.\n",
    ">const answer = prompt(\"вам есть 18 лет\", \"18\" -- значение поумолчанию)\n",
    ">>18\n"
   ],
   "metadata": {
    "collapsed": false
   }
  },
  {
   "cell_type": "markdown",
   "source": [
    "### Устаревший вывод непосредственно на страницу\n",
    ">document.write(answers)"
   ],
   "metadata": {
    "collapsed": false
   }
  },
  {
   "cell_type": "markdown",
   "source": [
    "### Интерполяция\n",
    ">const name = \"ivan\"\n",
    ">alert(`Привет ${name}`)\n",
    ">> \"Привет Иван\""
   ],
   "metadata": {
    "collapsed": false
   }
  },
  {
   "cell_type": "markdown",
   "source": [
    "#### Унарный плюс и минус изменяте тип строки на num\n",
    ">+\"4\" + 4\n",
    ">>8\n",
    ">-\"4\" + 10\n",
    ">>6"
   ],
   "metadata": {
    "collapsed": false
   }
  },
  {
   "cell_type": "markdown",
   "source": [
    "### Орператоры\n",
    "#### ! -отрицание\n",
    "> 10 == 10\n",
    ">>true\n",
    "> 10 == !10\n",
    ">>false"
   ],
   "metadata": {
    "collapsed": false
   }
  },
  {
   "cell_type": "markdown",
   "source": [
    "### Опрераторы сравнения < > >=, <=, ==, === - точное сравние, !== - неравно, %% -and, || - или\n",
    ">10 ==\"10\";\n",
    ">>true\n",
    ">10 === '10';\n",
    ">>false\n"
   ],
   "metadata": {
    "collapsed": false
   }
  },
  {
   "cell_type": "markdown",
   "source": [
    "## lesson_2\n",
    "### Условный оператор\n",
    "#### Синтаксис\n",
    ">if (условие 1){\n",
    ">   alert()\n",
    ">}else if (условие 3){\n",
    "    alert()\n",
    ">}else if (условие 3){\n",
    "    alert()\n",
    ">}else {\n",
    ">Прочее}\n",
    ">"
   ],
   "metadata": {
    "collapsed": false
   }
  },
  {
   "cell_type": "markdown",
   "source": [
    "### Оператор switch\n",
    "#### Синтаксис\n",
    ">switch (now) {\n",
    "        case \"morning\":\n",
    "            alert(\"Доброй утро\");\n",
    "            break\n",
    "        case \"night\":\n",
    "            alert(\"Доброе ночи\");\n",
    "            break\n",
    "        case \"evening\":\n",
    "            alert(\"Добрый вечер\");\n",
    "            break\n",
    "        default:\n",
    "            alert(\"Добрый день\");\n",
    "    }"
   ],
   "metadata": {
    "collapsed": false
   }
  },
  {
   "cell_type": "markdown",
   "source": [
    "### Тернарный оператор\n",
    "(Условие) ? (Оператор по истине) : (Оператор по лжи);\n",
    "\n",
    ">let a = 10;\n",
    "let b = 32;\n",
    "let my_max = (b>a) ? b : a\n",
    "alert(` Максимальное число = ${my_max}`)"
   ],
   "metadata": {
    "collapsed": false
   }
  },
  {
   "cell_type": "markdown",
   "source": [
    "### Функции\n",
    "#### Синтаксис function declaration\n",
    ">\n",
    "function имя_функции(параметр1, параметр2, ...){\n",
    "   Действия\n",
    "   return\n",
    "}"
   ],
   "metadata": {
    "collapsed": false
   }
  },
  {
   "cell_type": "markdown",
   "source": [
    ">function compare_num(x, y) {\n",
    "        if (x >= y)\n",
    "            alert(`Max = ${x}`);\n",
    "        else\n",
    "            alert(`Max = ${y}`);\n",
    "\n",
    "    }\n",
    "> compare_num () - выполнеие функции"
   ],
   "metadata": {
    "collapsed": false
   }
  },
  {
   "cell_type": "markdown",
   "source": [
    "### Анонимная функция\n",
    "#### Синтаксис function expression -\n",
    "\n",
    "const name = function (arg){body};\n",
    ">name (arg) - в переменной содержиться результата выполния функции\n",
    "\n",
    ">const ExprFunc = function (name) {\n",
    "    return `hello ${name}`\n",
    "}\n",
    "\n",
    ">console.log(ExprFunc('egor'))\n",
    "\n",
    "### Стрелочная функция - анонимная функция\n",
    "const имя_функции = () => тело функции\n",
    "const calc = a=> a**2\n",
    "const calc = (a,b)=> a+b\n",
    "\n",
    ">const ArrayFunc =  () => `здравствуй дорогой ${name}`\n",
    ">console.log(ArrayFunc('egor'))\n",
    "\n",
    "или\n",
    "const имя_функции = () => {тело функции\n",
    "    return result};\n",
    "#### если в стелочной функции используется {}\n",
    "то нужно вставить return\n",
    "\n"
   ],
   "metadata": {
    "collapsed": false
   }
  },
  {
   "cell_type": "markdown",
   "source": [
    "### Инкремент(увеличение)  декремент(уменьшение) постфикс префикс\n",
    "#### Синтаксис\n",
    "a++   - увелисение числа на единицу\n",
    "#### Префиксная форма\n",
    "#### Переменной result присваивается значение а с инкрементом\n",
    ">let a = 10;\n",
    "const result = ++a;\n",
    "console.log(`a = ${a}`)\n",
    "console.log(`result = ${result}`)\n",
    ">>a = 11\n",
    ">>result = 11\n",
    "\n",
    "#### Постфиксная форма\n",
    "##### переменной result вначале присваивается значение а, потом идет инкремент a\n",
    ">let a = 10;\n",
    "const result = a++;\n",
    "console.log(`a = ${a}`)\n",
    "console.log(`result = ${result}`)\n",
    ">>a = 11\n",
    ">>result = 10\n"
   ],
   "metadata": {
    "collapsed": false
   }
  },
  {
   "cell_type": "markdown",
   "source": [
    "### Инкремент(увеличение)  декремент(уменьшение) постфикс префикс\n",
    "#### Синтаксис\n",
    "a++   - увелисение числа на единицу\n",
    "#### Префиксная форма\n",
    "#### Переменной result присваивается значение а с инкрементом\n",
    ">let a = 10;\n",
    "const result = ++a;\n",
    "console.log(`a = ${a}`)\n",
    "console.log(`result = ${result}`)\n",
    ">>a = 11\n",
    ">>result = 11\n",
    "\n",
    "#### Постфиксная форма\n",
    "##### переменной result вначале присваивается значение а, потом идет инкремент a\n",
    ">let a = 10;\n",
    "const result = a++;\n",
    "console.log(`a = ${a}`)\n",
    "console.log(`result = ${result}`)\n",
    ">>a = 11\n",
    ">>result = 10\n"
   ],
   "metadata": {
    "collapsed": false
   }
  },
  {
   "cell_type": "markdown",
   "source": [
    "### Интерполяция\n",
    ">const name = \"ivan\"\n",
    ">alert(`Привет ${name}`)\n",
    ">> \"Привет Иван\""
   ],
   "metadata": {
    "collapsed": false
   }
  },
  {
   "cell_type": "markdown",
   "source": [
    "#### Унарный плюс и минус изменяте тип строки на num\n",
    ">+\"4\" + 4\n",
    ">>8\n",
    ">-\"4\" + 10\n",
    ">>6"
   ],
   "metadata": {
    "collapsed": false
   }
  },
  {
   "cell_type": "markdown",
   "source": [
    "### Орператоры\n",
    "#### ! -отрицание\n",
    "> 10 == 10\n",
    ">>true\n",
    "> 10 == !10\n",
    ">>false"
   ],
   "metadata": {
    "collapsed": false
   }
  },
  {
   "cell_type": "markdown",
   "source": [
    "### Опрераторы сравнения < > >=, <=, ==, === - точное сравние, !== - неравно, %% -and, || - или\n",
    ">10 ==\"10\";\n",
    ">>true\n",
    ">10 === '10';\n",
    ">>false\n"
   ],
   "metadata": {
    "collapsed": false
   }
  },
  {
   "cell_type": "markdown",
   "source": [
    "## lesson_2\n",
    "### Условный оператор\n",
    "#### Синтаксис\n",
    ">if (условие 1){\n",
    ">   alert()\n",
    ">}else if (условие 3){\n",
    "    alert()\n",
    ">}else if (условие 3){\n",
    "    alert()\n",
    ">}else {\n",
    ">Прочее}\n",
    ">"
   ],
   "metadata": {
    "collapsed": false
   }
  },
  {
   "cell_type": "markdown",
   "source": [
    "### Оператор switch\n",
    "#### Синтаксис\n",
    ">switch (now) {\n",
    "        case \"morning\":\n",
    "            alert(\"Доброй утро\");\n",
    "            break\n",
    "        case \"night\":\n",
    "            alert(\"Доброе ночи\");\n",
    "            break\n",
    "        case \"evening\":\n",
    "            alert(\"Добрый вечер\");\n",
    "            break\n",
    "        default:\n",
    "            alert(\"Добрый день\");\n",
    "    }"
   ],
   "metadata": {
    "collapsed": false
   }
  },
  {
   "cell_type": "markdown",
   "source": [
    "### Тернарный оператор\n",
    "(Условие) ? (Оператор по истине) : (Оператор по лжи);\n",
    "\n",
    ">let a = 10;\n",
    "let b = 32;\n",
    "let my_max = (b>a) ? b : a\n",
    "alert(` Максимальное число = ${my_max}`)"
   ],
   "metadata": {
    "collapsed": false
   }
  },
  {
   "cell_type": "markdown",
   "source": [
    "### Функции\n",
    "#### Синтаксис function declaration\n",
    "\n",
    "function имя_функции(параметр1, параметр2, ...rest){\n",
    "   Действия\n",
    "   return\n",
    "}"
   ],
   "metadata": {
    "collapsed": false
   }
  },
  {
   "cell_type": "markdown",
   "source": [
    ">function compare_num(x, y) {\n",
    "        if (x >= y)\n",
    "            alert(`Max = ${x}`);\n",
    "        else\n",
    "            alert(`Max = ${y}`);\n",
    "\n",
    "    }\n",
    "> compare_num () - выполнеие функции"
   ],
   "metadata": {
    "collapsed": false
   }
  },
  {
   "cell_type": "markdown",
   "source": [
    "### Анонимная функция\n",
    "#### Синтаксис function expression -\n",
    "\n",
    "const name = function (arg){body};\n",
    ">name (arg) - в переменной содержиться результата выполния функции\n",
    "\n",
    ">const ExprFunc = function (name) {\n",
    "    return `hello ${name}`\n",
    "}\n",
    "\n",
    ">console.log(ExprFunc('egor'))\n",
    "\n",
    "### Стрелочная функция - анонимная функция\n",
    "const имя_функции = () => тело функции\n",
    ">const ArrayFunc =  () => `здравствуй дорогой ${name}`\n",
    ">console.log(ArrayFunc('egor'))\n",
    "\n",
    "или\n",
    "const имя_функции = () => {тело функции\n",
    "    return result};\n",
    "#### если в стелочной функции используется {}\n",
    "то нужно вставить return\n",
    "\n"
   ],
   "metadata": {
    "collapsed": false
   }
  },
  {
   "cell_type": "markdown",
   "source": [
    "### Инкремент(увеличение)  декремент(уменьшение) постфикс префикс\n",
    "#### Синтаксис\n",
    "a++   - увелисение числа на единицу\n",
    "#### Префиксная форма\n",
    "#### Переменной result присваивается значение а с инкрементом\n",
    ">let a = 10;\n",
    "const result = ++a;\n",
    "console.log(`a = ${a}`)\n",
    "console.log(`result = ${result}`)\n",
    ">>a = 11\n",
    ">>result = 11\n",
    "\n",
    "#### Постфиксная форма\n",
    "##### переменной result вначале присваивается значение а, потом идет инкремент a\n",
    ">let a = 10;\n",
    "const result = a++;\n",
    "console.log(`a = ${a}`)\n",
    "console.log(`result = ${result}`)\n",
    ">>a = 11\n",
    ">>result = 10"
   ],
   "metadata": {
    "collapsed": false
   }
  },
  {
   "cell_type": "markdown",
   "source": [
    "### Циклы\n",
    "#### while (условие) { тело цикла}\n",
    "#### for (let i=0; ind<10; ind++ )\n",
    "#### for (;;) - бесконечный цикл\n",
    "#### break - преравть цикл\n",
    "#### continue - прекратить исполние цикла и перейтий началу цикла. смыс - пропустить однцу итерацию"
   ],
   "metadata": {
    "collapsed": false
   }
  },
  {
   "cell_type": "markdown",
   "source": [
    "### Массив\n",
    "#### let s =[] - пустой,\n",
    "s[0] - нулевой объект массива\n",
    "s[0][0] - нулевой объект двумерного массива\n",
    "\n",
    "s[0].name - общение к вложенному объекту\n",
    "s[0]['name']\n",
    "\n",
    "s[1]=1; добавить по индексу"
   ],
   "metadata": {
    "collapsed": false
   }
  },
  {
   "cell_type": "markdown",
   "source": [
    "### Оператор спред spread ...\n",
    "arr1 = [1,2,3]\n",
    "arr2 = [1,2,..arr1, 3] - добавить существующий массив в другой\n",
    "#### Копирование  массива\n",
    "arr3 = [...arr1]\n",
    "#### Преобразование строки в массив элементов\n",
    "arr3 = [...\"12345\"]\n",
    ">> [1,2,3,4,5]"
   ],
   "metadata": {
    "collapsed": false
   }
  },
  {
   "cell_type": "markdown",
   "source": [
    "#### Реструктуризация массива\n",
    "[a,b,c,d,e] = arr3\n",
    "[a,,,,e] = arr3 - получаем первый и последный элемент\n",
    "obj = {}\n",
    "[obj.id,obj.name]= \"1 egor\"\n",
    "\n",
    "[a,b,n,....other] = \"1,2,3,4,5,6,6,7,87,\"\n",
    "значение по умолчанию\n",
    "[drink = \"coffee\", dessert = \"donut\"]=['tea']\n",
    ">>drink = tea"
   ],
   "metadata": {
    "collapsed": false
   }
  },
  {
   "cell_type": "markdown",
   "source": [
    "#### Реструктуризация объекта\n",
    "const user = {id:3,name:\"sd', role: 'asdasd', url: 'http://asdads.ru'}\n",
    "{id,name,role} = user -имена переменных должны совпадать со свойисывми объекта\n",
    "или\n",
    "{id:nomer,name: imya, role: rol} = user\n",
    "{id} = nomer - только один"
   ],
   "metadata": {
    "collapsed": false
   }
  },
  {
   "cell_type": "markdown",
   "source": [
    "### Объекты (словарь, хеш-таблица)\n",
    "#### let a = {} - путой объект, a.name = 'egor' - задать свойств,\n",
    "#### получить значение\n",
    "a.name\n",
    "a['name']\n",
    "a.images.[] - если вложенный массив\n",
    "a.url.vk - если вложенный словарь (объект)\n",
    "\n",
    "\n",
    "#### Инициилизация объекта\n",
    "#### let s = {name:\"sdf\",birth: \"10.10.2012\"};"
   ],
   "metadata": {
    "collapsed": false
   }
  },
  {
   "cell_type": "markdown",
   "source": [
    "### Обход массива в цикле\n",
    ">let s = [1, 2, 3, 4, 5];\n",
    ">let w = {name :'egio', age : 23}\n",
    ">for (let i = 0; i <= s.length; i++){\n",
    "    console.log(String(i)+\" = \"+i)}\n",
    ">\n",
    ">for (let i of s){\n",
    ">  console.log(i) - обход значений\n",
    ">\n",
    ">}\n",
    ">\n",
    "### Обход словаря (объекта) в цикле\n",
    ">for (let i in w){\n",
    ">   console.log(i) - получим ключи\n",
    ">   console.log(w[i]) - получим значение\n",
    ">};\n",
    "\n",
    "#### Проверка на вхождение\n",
    ">console.log(1 in s)\n",
    ">>true\n",
    ">console.log(\"name\" in w)\n",
    ">>true"
   ],
   "metadata": {
    "collapsed": false
   }
  },
  {
   "cell_type": "markdown",
   "source": [
    "### длина массива, сторки\n",
    ">s.lingth\n",
    ">\"qwe\".length"
   ],
   "metadata": {
    "collapsed": false
   }
  },
  {
   "cell_type": "markdown",
   "source": [
    "### Методы массивов\n",
    ">array.forEach(function) - применят функцию к массиву (map() в python)\n",
    ">array.pop() - возврат последнего\n",
    ">array.push(elrm1,elem2,....) - добавление элеменота-ов в конец'\n",
    ">array.shift() - возврат первого\n",
    ">array.unshift() - добавить первый\n",
    ">array.filter() - добавить первый"
   ],
   "metadata": {
    "collapsed": false
   }
  },
  {
   "cell_type": "code",
   "execution_count": null,
   "outputs": [],
   "source": [
    "l = [\"васил\",\"фывфыв\",\"cvb\",\"васил\"]\n",
    "print([s for s in filter(lambda x: x[0] == 'в', l)])"
   ],
   "metadata": {
    "collapsed": false,
    "pycharm": {
     "name": "#%%\n"
    }
   }
  },
  {
   "cell_type": "markdown",
   "source": [
    "### Объектно-ориентрованное программирование ООП OOP\n",
    "#### ООП в JS реализовано на уровне объектов\n",
    "#### Создание конструктора объектов\n",
    "const Obj(arg,arg2){\n",
    "    this.arg = arg\n",
    "    this.arg2 = arg2\n",
    "    }\n",
    "#### создание экземпляра\n",
    "obj1 = new Obj(\"arg\",'\"arg2\")\n",
    "obj2 = new Obj(\"arg\",'\"arg2\")\n",
    "#### Методы могут создаваться внутри конструктора, но это не практикуется из-за не экономного расходывания памяти.\n",
    "Методы создаются на уровне прототипа объекта.\n",
    "Obj.prototype = objprorto\n",
    "const objprorto = {\n",
    "    show():{\n",
    "    return \"some result\"}\n",
    "}\n",
    "\n"
   ],
   "metadata": {
    "collapsed": false
   }
  },
  {
   "cell_type": "markdown",
   "source": [
    "#### Или, согласно новому ситнаксису\n",
    ">Obj.prototype.show = function () {\"body function\"}"
   ],
   "metadata": {
    "collapsed": false
   }
  },
  {
   "cell_type": "markdown",
   "source": [
    "### Стандарт es6\n",
    "#### Наследоваине атрибутов (свойств)\n",
    "\n",
    "function AttachedPost(author, text) {\n",
    "    Post_es5.call(this, author, text)\n",
    "    this.highlighted = false}\n",
    "\n",
    "#### Наследоваине методов\n",
    "AttachedPost.prototype = Object.create(Post_es5.prototype);\n",
    "AttachedPost.prototype.constructor = AttachedPost;\n"
   ],
   "metadata": {
    "collapsed": false
   }
  },
  {
   "cell_type": "markdown",
   "source": [
    "### Стандарт es6\n",
    "#### Class - классы\n",
    "#### Синтаксис\n",
    "class My_class {\n",
    "    constructor (arg1,arg2){\n",
    "    this.arg1 = arg1\n",
    "    this.arg2 = arg2\n",
    "    }\n",
    "    my_method {}\n",
    "}\n",
    "\n",
    "### Наследоваине\n",
    "class My_class extends Parent_class{\n",
    "    constructor (arg1,arg2,arg3){\n",
    "    supper(arg1,arg2);\n",
    "    }\n",
    "    my_method {}\n",
    "}"
   ],
   "metadata": {
    "collapsed": false
   }
  },
  {
   "cell_type": "markdown",
   "source": [
    "### DOM (documents object model) объктная модель документа - это программный API для HTML XML. DOM предоставляет структированинное представление документа и определяет то, как эта структура может быть доступна из программ, которые могут изменять содеожимое менять стиль и т д. DOM - это API браузера для доступа к HTML."
   ],
   "metadata": {
    "collapsed": false
   }
  },
  {
   "cell_type": "markdown",
   "source": [
    "#### объект window-help\n",
    "Объект window представляет собой окно, содержащее DOM документ;\n",
    "В браузерах, поддерживающих вкладки, таком как Firefox, каждая вкладка содержит свой собственный объект window (и если вы пишете расширение, окно браузера тоже является отдельным объектом window\n",
    "#### Объекты window\n",
    "innerHeight - возвращает высоту видимой области окна\n",
    "load - наступает, когда загрузилась вся страница, включая стили, картинки и другие ресурсы.\n",
    "onload=\"скрипт\"  - Событие onload используется как указатель, что веб-страница полностью загружена,\n",
    "window.addEventListener(\"load\", function () {\n",
    "        alert(\"все картинки загружены\")\n",
    "    });"
   ],
   "metadata": {
    "collapsed": false
   }
  },
  {
   "cell_type": "markdown",
   "source": [
    "#### объект document-help - центальный объект для доступа к странице\n",
    "document - структура выб докумнета <head><body> ...\n",
    ">console.dir(document) - стрница как объект\n",
    ">console.dir(document) - стрница как объект\n",
    "или\n",
    "console.dir(window.document) - стрница как объект\n",
    "#### Объекты document\n",
    "document.body.offsetHeight - возвращает высоту документа, тега body"
   ],
   "metadata": {
    "collapsed": false
   }
  },
  {
   "cell_type": "markdown",
   "source": [
    "### Система координат\n",
    "offsettop - от левого угла до левого верхнего угла объект\n",
    "offsetleft\n",
    "clientWidth - высота ширина блок с padding без margin\n",
    "clientHeight\n",
    "scrollHeight - высота всего блока с прокруткой\n",
    "\n",
    "(box.scrollTop) - высота промотоки блока box от верхнего угла\n",
    "\n",
    "getBoundingClientRect - получение всех текущих координат\n",
    "getComputedStyle(box) - получение стилей из css для box. необходим для доступа к псевдостилям\n",
    "const style_box = window.getComputedStyle(btn, 'hover').backgroundColor\n",
    "document.documentElement.clientWidth - ширина окна браузер\n",
    "document.documentElement.scrollTop -промотка документа\n",
    "document.documentElement.scrollTop = 0 - изменить scrollTop\n",
    "window.scrollBy (x,y) - перейти на позицию x y относительно текущей позиции\n",
    "window.scrollTo (x,y) - перейти на позицию x y относительно абсолютных координат\n",
    "pageYOffset - свойство окна Window , доступное только для чтения. Это то же свойство, что и scrollY и, как таковое, оно тоже возвращает количество пикселей, на которое прокручен документ по вертикали"
   ],
   "metadata": {
    "collapsed": false
   }
  },
  {
   "cell_type": "markdown",
   "source": [
    "### Выборки\n",
    "#### выборка по id\n",
    "> let one = document.getElementById(\"circle\")\n",
    ">documents.querySelection('p').id = \"new_id\" - назначить новый ID\n",
    "#### выборка по тегу\n",
    ">let two = document.getElementsByTagName(\"a\")\n",
    ">>HTMLCollection - возвращается HTMLCollection\n",
    "#### выборка по классу\n",
    ">let three = document.getElementsByClassName(\"class_circle\")\n",
    ">>HTMLCollection - возвращается HTMLCollection\n",
    "#### выборка по css селектору\n",
    ">let four = document.querySelectorAll('.qwe form[name =\"qwe\"]')\n",
    ">>NodeList - возвращается NodeList\n",
    ">let four = document.querySelector('.qwe form[name =\"qwe\"]')\n",
    ">>NodeList - возвращается NodeList"
   ],
   "metadata": {
    "collapsed": false
   }
  },
  {
   "cell_type": "markdown",
   "source": [
    "#### выборка по name\n",
    ">const six = document.getElementsByName('user')\n",
    ">>NodeList - возвращается NodeList"
   ],
   "metadata": {
    "collapsed": false
   }
  },
  {
   "cell_type": "markdown",
   "source": [
    "#### альтернативные выборки\n",
    "documents.images - картинки\n",
    "documents.links - картинки\n",
    "\n",
    "document.querySelector('.menu').children - все теги внутри\n",
    "document.querySelector('.menu').querySelector('span') -  тег внутри класса\n",
    "document.querySelector('span').parentNode - получить родителя относитьельно span\n",
    "document.querySelector('.prod').childNodes - получить все child nods"
   ],
   "metadata": {
    "collapsed": false
   }
  },
  {
   "cell_type": "markdown",
   "source": [
    "### РАбота с текстом\n",
    "document.querySelector('.div_1').innerText - только видимый текст\n",
    "document.querySelector('.div_1').textContent - выводит весть текст\n",
    "document.querySelector('.div_1').textContent.trim() - удалить краевые пробельне символы"
   ],
   "metadata": {
    "collapsed": false
   }
  },
  {
   "cell_type": "markdown",
   "source": [
    "### Добавть элемент на страниу\n",
    "#### createElement\n",
    "let paragraph = document.createElement('p') - создание элемента\n",
    "document.body.appendChild(paragraph) - вставляем перед закрывающися тегом\n",
    "paragraph.innerText = \"hello world\" - устанавливаем зничение свойству innerText\n",
    "\n",
    "document.querySelector(\".close\").getAttribute('data-dismiss') - получить атрибут\n",
    "\n",
    "#### insertBefore\n",
    "\n",
    "let hello = documents.createTextNode(\"hello world\") - создадим тестовый узел\n",
    "documents.body.insertBefore(hello,documents.querySelector(\"button\")) - вставить элемент после button\n",
    "\n",
    "#### Встсавка элеменов - дополнительный insertAdjacentHTML\n",
    "beforebegin - перед открывающим тегом\n",
    "afterbegin - после открытого тега\n",
    "beforeend  - до закрфтого тега\n",
    "afterend - после закрытого тега\n",
    "document.querySelector('body').insertAdjacentHTML(\"afterbegin\",\"<h1>  hello world  </h1>\")"
   ],
   "metadata": {
    "collapsed": false
   }
  },
  {
   "cell_type": "markdown",
   "source": [
    "### удаление элемента (узла)\n",
    "\n",
    "documents.querySelector(\"button\").remove()\n",
    "\n",
    "\n",
    "### замена элемента (узла)\n",
    "    let p = document.querySelector('p');\n",
    "    let h2 = document.createElement('h2');\n",
    "    h2.innerText = \"hello world\";\n",
    "            //newChild, oldChild\n",
    "    p.parentNode.replaceChild(h2, p);"
   ],
   "metadata": {
    "collapsed": false
   }
  },
  {
   "cell_type": "markdown",
   "source": [
    "### Работа с классами\n",
    "const paragraph  = document.querySelector('p') - работа с классами\n",
    "paragraph.classList.add - Добавить класс\n",
    "paragraph.classList.contains - проверить на наличие класса\n",
    "paragraph.classList.remove - удалить класс\n",
    "paragraph.classList.toggle - удалить класс если сеществует или создать клас, если не существует"
   ],
   "metadata": {
    "collapsed": false
   }
  },
  {
   "cell_type": "markdown",
   "source": [
    "### Вставка HTML\n",
    ">let qwe = document.querySelector(\".menu\")\n",
    ">qwe.innerHTML = \"<a href=\\\"#\\\">link</a>\" - заменяем значение атрибута innerHTML на новое"
   ],
   "metadata": {
    "collapsed": false
   }
  },
  {
   "cell_type": "markdown",
   "source": [
    "### Управление атрибутами\n",
    "document.querySelector(\"h1\").setAttribute('data-one','один') - установать атрибут\n",
    "document.querySelector(\"h1\").setAttribute('id','new_id') - установать атрибут\n",
    "console.log(document.querySelector(\"h1\"))"
   ],
   "metadata": {
    "collapsed": false
   }
  },
  {
   "cell_type": "markdown",
   "source": [
    "## Обработчик событий  event-help\n",
    "### События addEventListener - добавить слушителя событий\n",
    "#### Синтаксис\n",
    "document.add EventListener(\"событие\", 'функция')\n",
    "#### события\n",
    "load - функция выполниться, когдв все загрузиться\n",
    "document.addEventListener('DOMContentLoaded', function()) - ожидает загрузеи всех тегов HTML (другой контент может продолать загружаться)\n",
    "'click' - клик\n",
    "\"mouseover\" - наводим\n",
    "keydown - нажатие клавиши event.code = \"Escape\" -  в интернете\n",
    "change - возникает когда уходит из фокуса\n",
    "input - меняется значение\n",
    "event.preventDefault(); -отключить стандартное реагирование браузера"
   ],
   "metadata": {
    "collapsed": false
   }
  },
  {
   "cell_type": "markdown",
   "source": [
    "#### Функция обр события внешняя\n",
    "    let btn = document.querySelectorAll('.close');\n",
    "\n",
    "let closeClickHandler = function (event) {\n",
    "        event.currentTarget.parentNode.style = \"display: none;\"\n",
    "    }\n",
    "\n",
    "    btn.forEach(function (arg) {\n",
    "        arg.addEventListener('click', closeClickHandler)\n",
    "\n",
    "    })\n",
    "    sdfsdf.style.display = \"none\""
   ],
   "metadata": {
    "collapsed": false
   }
  },
  {
   "cell_type": "markdown",
   "source": [
    "### События addEventListener - добавить слушителя событий\n",
    "#### Синтаксис\n",
    "document.addEventListener(\"событие\", 'функция')\n",
    "#### события\n",
    "load - функция выполниться, когдв все загрузиться\n",
    "document.addEventListener('DOMContentLoaded', function()) - ожидает загрузеи всех тегов HTML (другой контент может продолать загружаться)\n",
    "'click' - клик\n",
    "\"mouseover\" - наводим\n",
    "#### Удалить обраьотчик события\n",
    "removeEventListener"
   ],
   "metadata": {
    "collapsed": false
   }
  },
  {
   "cell_type": "markdown",
   "source": [
    "### Работа с датой data time\n",
    "now = new Date(); - создается экземпляр объекта Date\n",
    "const now = new Date('2020-12-21'); - преобразовать строку в дату\n",
    "const now1 = new Date(1976,0,19, 20); - через список время выводиться с учетом часового\n",
    "const now1 = new Date(1976,3,19, 20,16,13); время выводиться с учетом часового пояса\n",
    "const now3 = new Date(0); в милисекундах\n",
    "1970-01-01T00:00:00.000Z\n",
    "const now3 = new Date(-898989898998); в милисекундах\n",
    "1941-07-07T00:35:01.002Z\n",
    "s = Date.parse"
   ],
   "metadata": {
    "collapsed": false
   }
  },
  {
   "cell_type": "markdown",
   "source": [
    "#### Методы data\n",
    "now.getFullYear(\n",
    "console.log(now.getMonth()); - год\n",
    "console.log(now.getDate()) - день\n",
    "console.log(now.getDay()); - день недели\n",
    "console.log(now.getUTCHours()); - вемя по гринвичу\n",
    "console.log(now.getTimezoneOffset()); - разница в минутах от гринвича\n",
    "console.log(now.getTime()); - поолучить unix date\n",
    "\n",
    "console.log(now.setHours(18)); - уствноваит новое время"
   ],
   "metadata": {
    "collapsed": false
   }
  },
  {
   "cell_type": "markdown",
   "source": [
    "#### выполнение скрипта через интревал\n",
    "const timer = setTimeout (function,1000) - единоразое выполние функции через 1000 ms\n",
    "const timer = setTimeout(() =>{alert('hello')}, 6000)\n",
    "clearInterval(timer) - остановка таймера. РАботет для обеих функций\n",
    "рекурсивный setTimeout\n",
    "\n",
    "let id = setTimeout(function log() {\n",
    "    console.log('hello')\n",
    "    id = setTimeout(log,500)\n",
    "},500)\n",
    "clearInterval(id)\n"
   ],
   "metadata": {
    "collapsed": false
   }
  },
  {
   "cell_type": "markdown",
   "source": [
    "#### Создание модального окна"
   ],
   "metadata": {
    "collapsed": false
   }
  },
  {
   "cell_type": "markdown",
   "source": [
    "### data-attribute - произвольный элемент тега начинающийся на data: пример\n",
    "<button data-modal>push me\n"
   ],
   "metadata": {
    "collapsed": false
   }
  },
  {
   "cell_type": "markdown",
   "source": [
    "#### альтернативные выборки\n",
    "documents.images - картинки\n",
    "documents.links - картинки\n",
    "\n",
    "document.querySelector('.menu').children - все теги внутри\n",
    "document.querySelector('.menu').querySelector('span') -  тег внутри класса\n",
    "document.querySelector('span').parentNode - получить родителя относитьельно span\n",
    "document.querySelector('.prod').childNodes - получить все child nods"
   ],
   "metadata": {
    "collapsed": false
   }
  },
  {
   "cell_type": "markdown",
   "source": [
    "### РАбота с текстом\n",
    "document.querySelector('.div_1').innerText - только видимый текст\n",
    "document.querySelector('.div_1').textContent - выводит весть текст\n",
    "document.querySelector('.div_1').textContent.trim() - удалить краевые пробельне символы"
   ],
   "metadata": {
    "collapsed": false
   }
  },
  {
   "cell_type": "markdown",
   "source": [
    "### Добавть элемент на страниу\n",
    "#### createElement\n",
    "let paragraph = document.createElement('p') - создание элемента\n",
    "document.body.appendChild(paragraph) - вставляем перед закрывающися тегом\n",
    "paragraph.innerText = \"hello world\" - устанавливаем зничение свойству innerText\n",
    "\n",
    "document.querySelector(\".close\").getAttribute('data-dismiss') - получить атрибут\n",
    "\n",
    "#### insertBefore\n",
    "\n",
    "let hello = documents.createTextNode(\"hello world\") - создадим тестовый узел\n",
    "documents.body.insertBefore(hello,documents.querySelector(\"button\")) - вставить элемент после button\n",
    "\n",
    "#### Встсавка элеменов - дополнительный insertAdjacentHTML\n",
    "beforebegin - перед открывающим тегом\n",
    "afterbegin - после открытого тега\n",
    "beforeend  - до закрфтого тега\n",
    "afterend - после закрытого тега\n",
    "document.querySelector('body').insertAdjacentHTML(\"afterbegin\",\"<h1>  hello world  </h1>\")"
   ],
   "metadata": {
    "collapsed": false
   }
  },
  {
   "cell_type": "markdown",
   "source": [
    "### удаление элемента (узла)\n",
    "\n",
    "documents.querySelector(\"button\").remove()\n",
    "\n",
    "\n",
    "### замена элемента (узла)\n",
    "    let p = document.querySelector('p');\n",
    "    let h2 = document.createElement('h2');\n",
    "    h2.innerText = \"hello world\";\n",
    "            //newChild, oldChild\n",
    "    p.parentNode.replaceChild(h2, p);"
   ],
   "metadata": {
    "collapsed": false
   }
  },
  {
   "cell_type": "markdown",
   "source": [
    "### Работа с классами\n",
    "const paragraph  = document.querySelector('p') - работа с классами\n",
    "paragraph.classList.add - Добавить класс\n",
    "paragraph.classList.remove - удалить класс\n",
    "paragraph.classList.toggle - удалить класс если сеществует или создать клас, если не существует"
   ],
   "metadata": {
    "collapsed": false
   }
  },
  {
   "cell_type": "markdown",
   "source": [
    "### Вставка HTML\n",
    ">let qwe = document.querySelector(\".menu\")\n",
    ">qwe.innerHTML = \"<a href=\\\"#\\\">link</a>\" - заменяем значение атрибута innerHTML на новое"
   ],
   "metadata": {
    "collapsed": false
   }
  },
  {
   "cell_type": "markdown",
   "source": [
    "### Управление атрибутами\n",
    "document.querySelector(\"h1\").setAttribute('data-one','один') - установать атрибут\n",
    "document.querySelector(\"h1\").setAttribute('id','new_id') - установать атрибут\n",
    "console.log(document.querySelector(\"h1\"))"
   ],
   "metadata": {
    "collapsed": false
   }
  },
  {
   "cell_type": "markdown",
   "source": [
    "### События addEventListener - добавить слушителя событий\n",
    "#### Синтаксис\n",
    "document.add EventListener(\"событие\", 'функция')\n",
    "#### события\n",
    "load - функция выполниться, когдв все загрузиться\n",
    "document.addEventListener('DOMContentLoaded', function()) - ожидает загрузеи всех тегов HTML (другой контент может продолать загружаться)\n",
    "'click' - клик\n",
    "\"mouseover\" - наводим\n",
    "#### Удалитьобраьотчик события"
   ],
   "metadata": {
    "collapsed": false
   }
  },
  {
   "cell_type": "markdown",
   "source": [
    "### Работа со стронними библиотеками\n",
    "<link rel=\"stylesheet\" href=\"https://use.fontawesome.com/releases/v5.8.2/css/all.css\" integrity=\"sha384-oS3vJWv+0UjzBfQzYUhtDYW+Pj2yciDJxpsK1OYPAYjqT085Qq/1cq5FLXAZQ7Ay\" crossorigin=\"anonymous\">\n",
    "иконки font awesome фонт\n",
    "    <script src=\"https://use.fontawesome.com/53a8054f69.js\"></script>\n",
    "\n",
    "web developer ruler - рулетка\n",
    "swiperjs.com - навороченный слайдер\n",
    "https://sweetalert2.github.io - модальный окна\n",
    "https://mmenujs.com - меню\n",
    "https://animate.style/ - анимация\n",
    "<img src=\"https://picsum.photos/200/200?random=${num}\"> - генерация изображений\n",
    "https://webref.ru/css/value/translatey"
   ],
   "metadata": {
    "collapsed": false,
    "pycharm": {
     "name": "#%% md\n"
    }
   }
  },
  {
   "cell_type": "markdown",
   "source": [
    "### Получение атрибутов\n",
    "console.log(event.target.dataset)"
   ],
   "metadata": {
    "collapsed": false
   }
  },
  {
   "cell_type": "markdown",
   "source": [
    "### CSS-help\n",
    "### Позиционирование position\n",
    " position: absolute - Указывает, что элемент абсолютно позиционирован, при этом другие элементы отображаются на веб-странице словно абсолютно позиционированного элемента и нет.\n",
    "document.body.style.overflow = \"hidden\" - запрет проскроливания страницы\n",
    "document.body.style.overflow = \"\" - восстановить проскроливания страницы\n",
    "\n",
    "\n",
    "\n",
    "### CSS3-переходы\n",
    "https://html5book.ru/css3-transition/\n",
    "transition - исползуется  для анимации d секундах"
   ],
   "metadata": {
    "collapsed": false
   }
  },
  {
   "cell_type": "markdown",
   "source": [
    "### JS-pro\n",
    "#### JSON-help\n",
    "JSON.stringify(person) -create json\n",
    "JSON.parse(ex_json) - разбор json\n",
    "есть онлайн конверторы json - xml\n",
    "глубокое копировпание можно сделать с помощью JSON\n",
    "let clone = JSON.parse(JSON.stringify(person))"
   ],
   "metadata": {
    "collapsed": false
   }
  },
  {
   "cell_type": "markdown",
   "source": [],
   "metadata": {
    "collapsed": false
   }
  },
  {
   "cell_type": "markdown",
   "source": [
    "MAMP  openserver"
   ],
   "metadata": {
    "collapsed": false
   }
  },
  {
   "cell_type": "markdown",
   "source": [
    "AJEX - Asynchronous javascript and XML"
   ],
   "metadata": {
    "collapsed": false
   }
  }
 ],
 "metadata": {
  "kernelspec": {
   "display_name": "Python 3",
   "language": "python",
   "name": "python3"
  },
  "language_info": {
   "codemirror_mode": {
    "name": "ipython",
    "version": 2
   },
   "file_extension": ".py",
   "mimetype": "text/x-python",
   "name": "python",
   "nbconvert_exporter": "python",
   "pygments_lexer": "ipython2",
   "version": "2.7.6"
  }
 },
 "nbformat": 4,
 "nbformat_minor": 0
}