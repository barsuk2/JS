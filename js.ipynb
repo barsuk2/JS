{
 "cells": [
  {
   "cell_type": "markdown",
   "source": [
    "## Java scrypt\n",
    "### Объвление пременых\n",
    "\n",
    "let a;\n",
    "let s = 3;\n",
    "const d = 10;"
   ],
   "metadata": {
    "collapsed": false
   }
  },
  {
   "cell_type": "markdown",
   "source": [
    "### Условный оператор\n",
    "#### Синтаксис\n",
    ">if (условие 1){\n",
    ">   alert()\n",
    ">}else if (условие 3){\n",
    "    alert()\n",
    ">}else if (условие 3){\n",
    "    alert()\n",
    ">}else {\n",
    ">Прочее}\n",
    ">"
   ],
   "metadata": {
    "collapsed": false
   }
  },
  {
   "cell_type": "markdown",
   "source": [
    "### Оператор switch\n",
    "#### Синтаксис\n",
    ">switch (now) {\n",
    "        case \"morning\":\n",
    "            alert(\"Доброй утро\");\n",
    "            break\n",
    "        case \"night\":\n",
    "            alert(\"Доброе ночи\");\n",
    "            break\n",
    "        case \"evening\":\n",
    "            alert(\"Добрый вечер\");\n",
    "            break\n",
    "        default:\n",
    "            alert(\"Добрый день\");\n",
    "    }"
   ],
   "metadata": {
    "collapsed": false
   }
  },
  {
   "cell_type": "markdown",
   "source": [
    "### Тернарный оператор\n",
    "(Условие) ? (Оператор по истине) : (Оператор по лжи);\n",
    "\n",
    ">let a = 10;\n",
    "let b = 32;\n",
    "let my_max = (b>a) ? b : a\n",
    "alert(` Максимальное число = ${my_max}`)"
   ],
   "metadata": {
    "collapsed": false,
    "pycharm": {
     "name": "#%% md\n"
    }
   }
  },
  {
   "cell_type": "markdown",
   "source": [
    "### Функции"
   ],
   "metadata": {
    "collapsed": false
   }
  }
 ],
 "metadata": {
  "kernelspec": {
   "display_name": "Python 3",
   "language": "python",
   "name": "python3"
  },
  "language_info": {
   "codemirror_mode": {
    "name": "ipython",
    "version": 2
   },
   "file_extension": ".py",
   "mimetype": "text/x-python",
   "name": "python",
   "nbconvert_exporter": "python",
   "pygments_lexer": "ipython2",
   "version": "2.7.6"
  }
 },
 "nbformat": 4,
 "nbformat_minor": 0
}